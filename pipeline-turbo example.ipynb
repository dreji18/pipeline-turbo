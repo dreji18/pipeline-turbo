{
 "cells": [
  {
   "cell_type": "markdown",
   "id": "47803ca6",
   "metadata": {},
   "source": [
    "# Boost your pipeline with pipeline-turbo"
   ]
  },
  {
   "cell_type": "markdown",
   "id": "78e9fd79",
   "metadata": {},
   "source": [
    "pipeline-turbo is a package that will accelerate your processing pipeline. It works with the multi-threading concept in the background. It has been successful in both CPU and GPU tasks.\n",
    "\n",
    "The only pre-requisite is to load the function running for a single process and adjust the threads according to your resource availability.\n",
    "\n",
    "##### Author: Deepak John Reji (www.linkedin.com/in/deepak-john-reji)"
   ]
  },
  {
   "cell_type": "markdown",
   "id": "93eb4c9b",
   "metadata": {},
   "source": [
    "### Step-1 : Install pipeline-turbo using pip command"
   ]
  },
  {
   "cell_type": "code",
   "execution_count": 1,
   "id": "2d2c9bfc",
   "metadata": {},
   "outputs": [
    {
     "name": "stdout",
     "output_type": "stream",
     "text": [
      "Requirement already satisfied: pipeline-turbo in c:\\users\\deepa\\anaconda3\\lib\\site-packages (0.0.6)\n",
      "Requirement already satisfied: tqdm in c:\\users\\deepa\\anaconda3\\lib\\site-packages (from pipeline-turbo) (4.64.0)\n",
      "Requirement already satisfied: colorama in c:\\users\\deepa\\anaconda3\\lib\\site-packages (from tqdm->pipeline-turbo) (0.4.4)\n"
     ]
    },
    {
     "name": "stderr",
     "output_type": "stream",
     "text": [
      "WARNING: Ignoring invalid distribution -ymupdf (c:\\users\\deepa\\anaconda3\\lib\\site-packages)\n",
      "WARNING: Ignoring invalid distribution -treamlit (c:\\users\\deepa\\anaconda3\\lib\\site-packages)\n",
      "WARNING: Ignoring invalid distribution -ymupdf (c:\\users\\deepa\\anaconda3\\lib\\site-packages)\n",
      "WARNING: Ignoring invalid distribution -treamlit (c:\\users\\deepa\\anaconda3\\lib\\site-packages)\n",
      "WARNING: Ignoring invalid distribution -ymupdf (c:\\users\\deepa\\anaconda3\\lib\\site-packages)\n",
      "WARNING: Ignoring invalid distribution -treamlit (c:\\users\\deepa\\anaconda3\\lib\\site-packages)\n",
      "WARNING: Ignoring invalid distribution -ymupdf (c:\\users\\deepa\\anaconda3\\lib\\site-packages)\n",
      "WARNING: Ignoring invalid distribution -treamlit (c:\\users\\deepa\\anaconda3\\lib\\site-packages)\n",
      "WARNING: Ignoring invalid distribution -ymupdf (c:\\users\\deepa\\anaconda3\\lib\\site-packages)\n",
      "WARNING: Ignoring invalid distribution -treamlit (c:\\users\\deepa\\anaconda3\\lib\\site-packages)\n",
      "WARNING: Ignoring invalid distribution -ymupdf (c:\\users\\deepa\\anaconda3\\lib\\site-packages)\n",
      "WARNING: Ignoring invalid distribution -treamlit (c:\\users\\deepa\\anaconda3\\lib\\site-packages)\n"
     ]
    }
   ],
   "source": [
    "!pip install pipeline-turbo"
   ]
  },
  {
   "cell_type": "markdown",
   "id": "7a650e5e",
   "metadata": {},
   "source": [
    "### Step-2, Get your data ready"
   ]
  },
  {
   "cell_type": "code",
   "execution_count": 2,
   "id": "56d7c7ec",
   "metadata": {},
   "outputs": [
    {
     "name": "stdout",
     "output_type": "stream",
     "text": [
      "total sentences : 500\n"
     ]
    }
   ],
   "source": [
    "# let's get some data for processing\n",
    "sentences = [\"Nevertheless, Trump and other Republicans have tarred the protests as havens for terrorists intent on destroying property.\", \"Billie Eilish issues apology for mouthing an anti-Asian derogatory term in a resurfaced video.\", \"Christians should make clear that the perpetuation of objectionable vaccines and the lack of alternatives is a kind of coercion.\", \"There have been a protest by a group of people\", \"While emphasizing heâ€™s not singling out either party, Cohen warned about the danger of normalizing white supremacist ideology.\"]\n",
    "\n",
    "sentences1 = sentences * 100\n",
    "print(f\"total sentences : {len(sentences1)}\")"
   ]
  },
  {
   "cell_type": "markdown",
   "id": "eb9d9c2e",
   "metadata": {},
   "source": [
    "### Step-3, Create your pipeline"
   ]
  },
  {
   "cell_type": "code",
   "execution_count": 3,
   "id": "ce9aebdf",
   "metadata": {},
   "outputs": [
    {
     "name": "stderr",
     "output_type": "stream",
     "text": [
      "All model checkpoint layers were used when initializing TFDistilBertForSequenceClassification.\n",
      "\n",
      "All the layers of TFDistilBertForSequenceClassification were initialized from the model checkpoint at d4data/bias-detection-model.\n",
      "If your task is similar to the task the model of the checkpoint was trained on, you can already use TFDistilBertForSequenceClassification for predictions without further training.\n"
     ]
    }
   ],
   "source": [
    "# Create your process - Here is an example of running a bias detection model across few sentences\n",
    "from transformers import AutoTokenizer, TFAutoModelForSequenceClassification\n",
    "from transformers import pipeline\n",
    "tokenizer = AutoTokenizer.from_pretrained(\"d4data/bias-detection-model\")\n",
    "model = TFAutoModelForSequenceClassification.from_pretrained(\"d4data/bias-detection-model\")\n",
    "classifier = pipeline('text-classification', model=model, tokenizer=tokenizer, device=0) "
   ]
  },
  {
   "cell_type": "code",
   "execution_count": 4,
   "id": "e6c2ee1d",
   "metadata": {},
   "outputs": [],
   "source": [
    "def bias_classification(text):\n",
    "    out = classifier(text)\n",
    "    #label_ = out[0]['label']\n",
    "    #probability_ = out[0]['score']\n",
    "    \n",
    "    return out "
   ]
  },
  {
   "cell_type": "markdown",
   "id": "b0586d41",
   "metadata": {},
   "source": [
    "### Without turbo"
   ]
  },
  {
   "cell_type": "code",
   "execution_count": 5,
   "id": "e71710c8",
   "metadata": {},
   "outputs": [
    {
     "name": "stdout",
     "output_type": "stream",
     "text": [
      "Time taken for execution: 0.45236920515696205 minutes\n",
      "Extraction is completed.......!\n"
     ]
    }
   ],
   "source": [
    "import time\n",
    "start = time.time() \n",
    "\n",
    "# without turbo, looping across all the sentences - Normal Method\n",
    "out_list = []\n",
    "for sent in sentences1:\n",
    "    out = bias_classification(sent)\n",
    "    out_list.append(out)\n",
    "\n",
    "print(\"Time taken for execution\" + \": \" + str((time.time()-start)/60) + \" minutes\")\n",
    "print(\"Extraction is completed.......!\")"
   ]
  },
  {
   "cell_type": "markdown",
   "id": "af561a8f",
   "metadata": {},
   "source": [
    "### With turbo"
   ]
  },
  {
   "cell_type": "code",
   "execution_count": 6,
   "id": "ed430d0d",
   "metadata": {},
   "outputs": [],
   "source": [
    "from pipeline_turbo.turbo import turbo_threading # import the turbo threading function which does the magic"
   ]
  },
  {
   "cell_type": "code",
   "execution_count": 7,
   "id": "dc250b3f",
   "metadata": {},
   "outputs": [
    {
     "name": "stderr",
     "output_type": "stream",
     "text": [
      "500it [00:27, 18.42it/s]\n"
     ]
    }
   ],
   "source": [
    "turbo_out = turbo_threading(sentences1,bias_classification, num_threads=5)"
   ]
  },
  {
   "cell_type": "code",
   "execution_count": 8,
   "id": "8d0c1c5c",
   "metadata": {},
   "outputs": [
    {
     "data": {
      "text/plain": [
       "[{'label': 'Biased', 'score': 0.8979015946388245}]"
      ]
     },
     "execution_count": 8,
     "metadata": {},
     "output_type": "execute_result"
    }
   ],
   "source": [
    "turbo_out['Billie Eilish issues apology for mouthing an anti-Asian derogatory term in a resurfaced video.']"
   ]
  }
 ],
 "metadata": {
  "kernelspec": {
   "display_name": "Python 3",
   "language": "python",
   "name": "python3"
  },
  "language_info": {
   "codemirror_mode": {
    "name": "ipython",
    "version": 3
   },
   "file_extension": ".py",
   "mimetype": "text/x-python",
   "name": "python",
   "nbconvert_exporter": "python",
   "pygments_lexer": "ipython3",
   "version": "3.8.13"
  }
 },
 "nbformat": 4,
 "nbformat_minor": 5
}
